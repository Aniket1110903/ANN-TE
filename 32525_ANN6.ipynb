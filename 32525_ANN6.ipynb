{
 "cells": [
  {
   "cell_type": "code",
   "execution_count": 1,
   "id": "22f3acc7",
   "metadata": {},
   "outputs": [
    {
     "name": "stdout",
     "output_type": "stream",
     "text": [
      "weight 1 :  [[-0. -0. -1.  0.]\n",
      " [ 2.  1.  1. -1.]\n",
      " [ 0.  0.  2.  1.]]\n",
      "weight 2 :  [[ 1.  0.]\n",
      " [-0.  1.]\n",
      " [ 0.  2.]\n",
      " [ 0. -0.]]\n",
      "bias 1 :  [ 3. -0.  0. -0.]\n",
      "bias 2 :  [-0.  1.]\n",
      "[[1. 1.]]\n"
     ]
    }
   ],
   "source": [
    "#assi 6.1 Forward propagation\n",
    "\n",
    "import numpy as np\n",
    "\n",
    "def sigmoid(x):\n",
    "  return 1/(1+np.exp(-x))\n",
    "\n",
    "input_size = 3\n",
    "hidden_size = 4\n",
    "output_size = 2\n",
    "\n",
    "w1 = np.random.randn(input_size,hidden_size).round()\n",
    "b1 = np.random.randn(hidden_size).round()\n",
    "w2 = np.random.randn(hidden_size,output_size).round()\n",
    "b2 = np.random.randn(output_size).round()\n",
    "\n",
    "x = np.array([[0.2,0.5,0.1]])\n",
    "\n",
    "hidden_layer = sigmoid(np.dot(x,w1) + b1).round()\n",
    "output_layer = sigmoid(np.dot(hidden_layer, w2) + b2).round()\n",
    "\n",
    "print(\"weight 1 : \",w1)\n",
    "print(\"weight 2 : \",w2)\n",
    "print(\"bias 1 : \",b1)\n",
    "print(\"bias 2 : \",b2)\n",
    "print(output_layer)"
   ]
  },
  {
   "cell_type": "code",
   "execution_count": 4,
   "id": "953fc13a",
   "metadata": {},
   "outputs": [
    {
     "name": "stdout",
     "output_type": "stream",
     "text": [
      "[0.9897704]\n"
     ]
    }
   ],
   "source": [
    "# backpropGtion\n",
    "\n",
    "from numpy import *\n",
    "\n",
    "class NeuralNet(object):\n",
    "\n",
    "  def __init__(self):\n",
    "    random.seed(1)\n",
    "    self.synaptic_weights = 2 * random.random((3, 1)) - 1\n",
    "\n",
    "  def __sigmoid(self, x):\n",
    "    return 1 / (1 + exp(-x))\n",
    "\n",
    "  def __sigmoid_derivative(self, x):\n",
    "    return x * (1 - x)\n",
    "\n",
    "  def train(self, inputs, outputs, training_iteration):\n",
    "\n",
    "    for iteration in range(training_iteration):\n",
    "      output = self.learn(inputs)\n",
    "      error = outputs - output\n",
    "      adjustment = dot(inputs.T, error * self.__sigmoid_derivative(output))\n",
    "      self.synaptic_weights += adjustment\n",
    "\n",
    "  def learn(self, inputs):\n",
    "    return self.__sigmoid(dot(inputs, self.synaptic_weights))\n",
    "\n",
    "if __name__ == \"__main__\":\n",
    "  neural = NeuralNet()\n",
    "  inputs = array([[0, 1, 1], [1, 0, 0], [1, 0, 1]])\n",
    "  outputs = array([[1], [0], [1]])\n",
    "\n",
    "  neural.train(inputs, outputs, 10000)\n",
    "  print(neural.learn(array([1, 0, 1])))\n"
   ]
  },
  {
   "cell_type": "code",
   "execution_count": null,
   "id": "521d46f3",
   "metadata": {},
   "outputs": [],
   "source": []
  }
 ],
 "metadata": {
  "kernelspec": {
   "display_name": "Python 3 (ipykernel)",
   "language": "python",
   "name": "python3"
  },
  "language_info": {
   "codemirror_mode": {
    "name": "ipython",
    "version": 3
   },
   "file_extension": ".py",
   "mimetype": "text/x-python",
   "name": "python",
   "nbconvert_exporter": "python",
   "pygments_lexer": "ipython3",
   "version": "3.11.3"
  }
 },
 "nbformat": 4,
 "nbformat_minor": 5
}
